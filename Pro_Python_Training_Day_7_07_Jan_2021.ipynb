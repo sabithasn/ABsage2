{
  "nbformat": 4,
  "nbformat_minor": 0,
  "metadata": {
    "colab": {
      "name": "Pro Python Training Day 7_07-Jan-2021.ipynb",
      "provenance": [],
      "collapsed_sections": [],
      "include_colab_link": true
    },
    "kernelspec": {
      "name": "python3",
      "display_name": "Python 3"
    }
  },
  "cells": [
    {
      "cell_type": "markdown",
      "metadata": {
        "id": "view-in-github",
        "colab_type": "text"
      },
      "source": [
        "<a href=\"https://colab.research.google.com/github/sabithasn/ABsage2/blob/master/Pro_Python_Training_Day_7_07_Jan_2021.ipynb\" target=\"_parent\"><img src=\"https://colab.research.google.com/assets/colab-badge.svg\" alt=\"Open In Colab\"/></a>"
      ]
    },
    {
      "cell_type": "markdown",
      "metadata": {
        "id": "VsLajSOubSjv"
      },
      "source": [
        "**Pandas** is a Python library used for working with data sets.\r\n",
        "\r\n",
        "It has functions for analyzing, cleaning, exploring, and manipulating data.\r\n",
        "\r\n",
        "The name \"Pandas\" has a reference to both \"Panel Data\", and \"Python Data Analysis\" and was created by Wes McKinney in 2008.\r\n",
        "\r\n",
        "Pandas is used in a wide range of fields including academic and commercial domains including finance, economics, Statistics, analytics, etc.\r\n",
        "\r\n",
        "**What Can Pandas Do?**\r\n",
        "\r\n",
        "Pandas gives you answers about the data. Like:\r\n",
        "\r\n",
        "Is there a correlation between two or more columns?\r\n",
        "\r\n",
        "What is average value?\r\n",
        "\r\n",
        "Max value?\r\n",
        "\r\n",
        "Min value?"
      ]
    },
    {
      "cell_type": "markdown",
      "metadata": {
        "id": "Hg5Y44NkZd08"
      },
      "source": [
        "## NumPy vs Pandas\r\n",
        "\r\n",
        "**NumPy :** If you want to do any array based or matrix based calculation and data analysis\r\n",
        "\r\n",
        "You can do complex calculations very easily \r\n",
        "\r\n",
        "Example: If you want to add two or more arrays, we can do it directly without the use of loop\r\n",
        "\r\n",
        "\r\n",
        "**Pandas :** It is the most popular tool for data cleaning and analysis\r\n",
        "\r\n",
        "Pandas adopted many coding styles from NumPy\r\n",
        "\r\n",
        "NumPy best suited for working with homogenous data, while Pandas is helpful in tabular or heterogenous data\r\n",
        "\r\n",
        "NumPy works with arrays while Pandas works with **series** and **dataframe**\r\n",
        "\r\n",
        "**Series** can only contain single list with index, whereas **dataframe** can be made of more than one series or we can say that a dataframe is a collection of series that can be used to analyse the data.\r\n",
        "\r\n",
        "![series n dataframe.png](data:image/png;base64,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)\r\n"
      ]
    },
    {
      "cell_type": "code",
      "metadata": {
        "id": "CkMn1l7A8VIC",
        "colab": {
          "base_uri": "https://localhost:8080/"
        },
        "outputId": "11cd3d82-bf7f-4b35-cbc9-16088675e2cf"
      },
      "source": [
        "#To check the version\r\n",
        "import pandas as pd\r\n",
        "print(pd.__version__)"
      ],
      "execution_count": null,
      "outputs": [
        {
          "output_type": "stream",
          "text": [
            "1.1.5\n"
          ],
          "name": "stdout"
        }
      ]
    },
    {
      "cell_type": "markdown",
      "metadata": {
        "id": "VmyC-d9B9lMv"
      },
      "source": [
        "Creating an empty series"
      ]
    },
    {
      "cell_type": "code",
      "metadata": {
        "id": "qCi9Ufcy9rNd",
        "colab": {
          "base_uri": "https://localhost:8080/"
        },
        "outputId": "466af827-b081-43d6-e21e-8965c11b2412"
      },
      "source": [
        "#import the pandas library and aliasing as pd\n",
        "import pandas as pd\n",
        "s = pd.Series()\n",
        "print(s)"
      ],
      "execution_count": null,
      "outputs": [
        {
          "output_type": "stream",
          "text": [
            "Series([], dtype: float64)\n"
          ],
          "name": "stdout"
        },
        {
          "output_type": "stream",
          "text": [
            "/usr/local/lib/python3.6/dist-packages/ipykernel_launcher.py:3: DeprecationWarning: The default dtype for empty Series will be 'object' instead of 'float64' in a future version. Specify a dtype explicitly to silence this warning.\n",
            "  This is separate from the ipykernel package so we can avoid doing imports until\n"
          ],
          "name": "stderr"
        }
      ]
    },
    {
      "cell_type": "code",
      "metadata": {
        "id": "v0nT2CNnAYq8",
        "colab": {
          "base_uri": "https://localhost:8080/"
        },
        "outputId": "71bd8ae3-a6f3-4826-a41c-d45d7e0c9653"
      },
      "source": [
        "#Accessing first 7 elements of Series\r\n",
        "import pandas as pd\r\n",
        "import numpy as np\r\n",
        " \r\n",
        "# creating simple array\r\n",
        "data = np.array(['w','e','l','c','o','m', 'e','t','e','a','c','h','e','r','s'])\r\n",
        "ser = pd.Series(data)  \r\n",
        "  \r\n",
        "#retrieve the first 7 element\r\n",
        "print(ser[:7])"
      ],
      "execution_count": null,
      "outputs": [
        {
          "output_type": "stream",
          "text": [
            "0    w\n",
            "1    e\n",
            "2    l\n",
            "3    c\n",
            "4    o\n",
            "5    m\n",
            "6    e\n",
            "dtype: object\n"
          ],
          "name": "stdout"
        }
      ]
    },
    {
      "cell_type": "code",
      "metadata": {
        "id": "jPu8m7WmCrUW",
        "colab": {
          "base_uri": "https://localhost:8080/"
        },
        "outputId": "ecaf3079-c2b4-453f-cfeb-02fb7db89265"
      },
      "source": [
        "#Create a series of first five odd numbers with the index value as o1, o2....\r\n",
        "data = pd.Series([1, 3, 5, 7], index=['o1', 'o2', 'o3', 'o4'])\r\n",
        "print(data)"
      ],
      "execution_count": null,
      "outputs": [
        {
          "output_type": "stream",
          "text": [
            "o1    1\n",
            "o2    3\n",
            "o3    5\n",
            "o4    7\n",
            "dtype: int64\n"
          ],
          "name": "stdout"
        }
      ]
    },
    {
      "cell_type": "code",
      "metadata": {
        "id": "R9pa5UZs7Zj1",
        "colab": {
          "base_uri": "https://localhost:8080/"
        },
        "outputId": "d5b46123-64d1-45f8-f9ca-2c8c1ee297de"
      },
      "source": [
        "import pandas as pd\r\n",
        "\r\n",
        "mydataset = {'cars': [\"BMW\", \"Volvo\", \"Ford\"], 'Model': [2020, 2019, 2021]}\r\n",
        "\r\n",
        "myvar = pd.DataFrame(mydataset)\r\n",
        "\r\n",
        "print(myvar)"
      ],
      "execution_count": null,
      "outputs": [
        {
          "output_type": "stream",
          "text": [
            "    cars  Model\n",
            "0    BMW   2020\n",
            "1  Volvo   2019\n",
            "2   Ford   2021\n"
          ],
          "name": "stdout"
        }
      ]
    },
    {
      "cell_type": "markdown",
      "metadata": {
        "id": "nz0pe-mt-GJT"
      },
      "source": [
        "Create a Series from ndarray\n",
        "\n",
        "If data is an ndarray, then index passed must be of the same length. If no index is passed, then by default index will be range(n) where n is array length, i.e., [0,1,2,3…. range(len(array))-1]."
      ]
    },
    {
      "cell_type": "code",
      "metadata": {
        "id": "JXliZhjQ_FIz",
        "colab": {
          "base_uri": "https://localhost:8080/"
        },
        "outputId": "95603d83-88e4-4d20-f856-960d31999867"
      },
      "source": [
        "#import the pandas library and aliasing as pd\n",
        "import pandas as pd\n",
        "import numpy as np\n",
        "data = np.array(['a','b','c','d'])\n",
        "s = pd.Series(data)\n",
        "print(s)"
      ],
      "execution_count": null,
      "outputs": [
        {
          "output_type": "stream",
          "text": [
            "0    a\n",
            "1    b\n",
            "2    c\n",
            "3    d\n",
            "dtype: object\n"
          ],
          "name": "stdout"
        }
      ]
    },
    {
      "cell_type": "code",
      "metadata": {
        "id": "R3NsQBPx_MWC",
        "colab": {
          "base_uri": "https://localhost:8080/"
        },
        "outputId": "219848af-c802-4ee7-a6b0-677ff8eba58e"
      },
      "source": [
        "#Example 2 import the pandas library and aliasing as pd\n",
        "import pandas as pd\n",
        "import numpy as np\n",
        "data = np.array(['a','b','c','d'])\n",
        "s = pd.Series(data,index=[100,101,102,103])\n",
        "print(s)"
      ],
      "execution_count": null,
      "outputs": [
        {
          "output_type": "stream",
          "text": [
            "100    a\n",
            "101    b\n",
            "102    c\n",
            "103    d\n",
            "dtype: object\n"
          ],
          "name": "stdout"
        }
      ]
    },
    {
      "cell_type": "markdown",
      "metadata": {
        "id": "lWAj4uxX_SDP"
      },
      "source": [
        "Create a Series from dict\n",
        "\n",
        "A dict can be passed as input and if no index is specified, then the dictionary keys are taken in a sorted order to construct index. If index is passed, the values in data corresponding to the labels in the index will be pulled out."
      ]
    },
    {
      "cell_type": "code",
      "metadata": {
        "id": "9FjjRaZM_Tdb",
        "colab": {
          "base_uri": "https://localhost:8080/"
        },
        "outputId": "65f915b0-d54a-4f46-df18-db3e36502841"
      },
      "source": [
        "#import the pandas library and aliasing as pd\n",
        "import pandas as pd\n",
        "import numpy as np\n",
        "data = {'a' : 0., 'b' : 1., 'c' : 2.}\n",
        "s = pd.Series(data)\n",
        "print(s)"
      ],
      "execution_count": null,
      "outputs": [
        {
          "output_type": "stream",
          "text": [
            "a    0.0\n",
            "b    1.0\n",
            "c    2.0\n",
            "dtype: float64\n"
          ],
          "name": "stdout"
        }
      ]
    },
    {
      "cell_type": "markdown",
      "metadata": {
        "id": "bPougrsk_bdq"
      },
      "source": [
        "Create a Series from Scalar\n",
        "\n",
        "If data is a scalar value, an index must be provided. The value will be repeated to match the length of index"
      ]
    },
    {
      "cell_type": "code",
      "metadata": {
        "id": "nuyYG4mm_ctE",
        "colab": {
          "base_uri": "https://localhost:8080/"
        },
        "outputId": "bd38153c-5670-4f23-d43d-a33d774e5ce0"
      },
      "source": [
        "#import the pandas library and aliasing as pd\n",
        "import pandas as pd\n",
        "import numpy as np\n",
        "s = pd.Series(5, index=[0, 1, 2, 3])\n",
        "print(s)"
      ],
      "execution_count": null,
      "outputs": [
        {
          "output_type": "stream",
          "text": [
            "0    5\n",
            "1    5\n",
            "2    5\n",
            "3    5\n",
            "dtype: int64\n"
          ],
          "name": "stdout"
        }
      ]
    },
    {
      "cell_type": "code",
      "metadata": {
        "id": "uf6Xy_HQAEAU",
        "colab": {
          "base_uri": "https://localhost:8080/"
        },
        "outputId": "a99de7ca-0901-4cd9-c5cf-b4f281f2ef00"
      },
      "source": [
        "import pandas as pd\n",
        "ds1 = pd.Series([2, 4, 6, 8, 10])\n",
        "ds2 = pd.Series([1, 3, 5, 7, 9])\n",
        "ds = ds1 + ds2\n",
        "print(\"Add two Series:\")\n",
        "print(ds)\n",
        "print(\"Subtract two Series:\")\n",
        "ds = ds1 - ds2\n",
        "print(ds)\n",
        "print(\"Multiply two Series:\")\n",
        "ds = ds1 * ds2\n",
        "print(ds)\n",
        "print(\"Divide Series1 by Series2:\")\n",
        "ds = ds1 / ds2\n",
        "print(ds)"
      ],
      "execution_count": null,
      "outputs": [
        {
          "output_type": "stream",
          "text": [
            "Add two Series:\n",
            "0     3\n",
            "1     7\n",
            "2    11\n",
            "3    15\n",
            "4    19\n",
            "dtype: int64\n",
            "Subtract two Series:\n",
            "0    1\n",
            "1    1\n",
            "2    1\n",
            "3    1\n",
            "4    1\n",
            "dtype: int64\n",
            "Multiply two Series:\n",
            "0     2\n",
            "1    12\n",
            "2    30\n",
            "3    56\n",
            "4    90\n",
            "dtype: int64\n",
            "Divide Series1 by Series2:\n",
            "0    2.000000\n",
            "1    1.333333\n",
            "2    1.200000\n",
            "3    1.142857\n",
            "4    1.111111\n",
            "dtype: float64\n"
          ],
          "name": "stdout"
        }
      ]
    },
    {
      "cell_type": "markdown",
      "metadata": {
        "id": "d5wQYGWlLbG_"
      },
      "source": [
        "Comparing 2 series"
      ]
    },
    {
      "cell_type": "code",
      "metadata": {
        "id": "ir4secmvLczw",
        "colab": {
          "base_uri": "https://localhost:8080/"
        },
        "outputId": "3372f86d-6298-4b73-9c39-21bf8487037d"
      },
      "source": [
        "import pandas as pd\n",
        "ds1 = pd.Series([2, 4, 6, 8, 10])\n",
        "ds2 = pd.Series([1, 3, 5, 7, 10])\n",
        "print(\"Series1:\")\n",
        "print(ds1)\n",
        "print(\"Series2:\")\n",
        "print(ds2)\n",
        "print(\"Compare the elements of the said Series:\")\n",
        "print(\"Equals:\")\n",
        "print(ds1 == ds2)\n",
        "print(\"Greater than:\")\n",
        "print(ds1 > ds2)\n",
        "print(\"Less than:\")\n",
        "print(ds1 < ds2)"
      ],
      "execution_count": null,
      "outputs": [
        {
          "output_type": "stream",
          "text": [
            "Series1:\n",
            "0     2\n",
            "1     4\n",
            "2     6\n",
            "3     8\n",
            "4    10\n",
            "dtype: int64\n",
            "Series2:\n",
            "0     1\n",
            "1     3\n",
            "2     5\n",
            "3     7\n",
            "4    10\n",
            "dtype: int64\n",
            "Compare the elements of the said Series:\n",
            "Equals:\n",
            "0    False\n",
            "1    False\n",
            "2    False\n",
            "3    False\n",
            "4     True\n",
            "dtype: bool\n",
            "Greater than:\n",
            "0     True\n",
            "1     True\n",
            "2     True\n",
            "3     True\n",
            "4    False\n",
            "dtype: bool\n",
            "Less than:\n",
            "0    False\n",
            "1    False\n",
            "2    False\n",
            "3    False\n",
            "4    False\n",
            "dtype: bool\n"
          ],
          "name": "stdout"
        }
      ]
    },
    {
      "cell_type": "code",
      "metadata": {
        "id": "itBTD2sQT-_V"
      },
      "source": [
        ""
      ],
      "execution_count": null,
      "outputs": []
    },
    {
      "cell_type": "code",
      "metadata": {
        "colab": {
          "base_uri": "https://localhost:8080/"
        },
        "id": "yrVbnhcR-5qT",
        "outputId": "9eaf30d4-e9be-406b-ccbf-31715b114668"
      },
      "source": [
        "#To convert the first column of a DataFrame as a Series\r\n",
        "import pandas as pd\r\n",
        "d = {'col1': [1, 2, 3, 4, 7, 11], 'col2': [4, 5, 6, 9, 5, 0], 'col3': [7, 5, 8, 12, 1,11]}\r\n",
        "df = pd.DataFrame(data=d)\r\n",
        "print(\"Original DataFrame\")\r\n",
        "print(df)\r\n",
        "s1 = df.iloc[:,0]\r\n",
        "print(\"\\n1st column as a Series:\")\r\n",
        "print(s1)\r\n",
        "print(type(s1))"
      ],
      "execution_count": null,
      "outputs": [
        {
          "output_type": "stream",
          "text": [
            "Original DataFrame\n",
            "   col1  col2  col3\n",
            "0     1     4     7\n",
            "1     2     5     5\n",
            "2     3     6     8\n",
            "3     4     9    12\n",
            "4     7     5     1\n",
            "5    11     0    11\n",
            "\n",
            "1st column as a Series:\n",
            "0     1\n",
            "1     2\n",
            "2     3\n",
            "3     4\n",
            "4     7\n",
            "5    11\n",
            "Name: col1, dtype: int64\n",
            "<class 'pandas.core.series.Series'>\n"
          ],
          "name": "stdout"
        }
      ]
    },
    {
      "cell_type": "code",
      "metadata": {
        "id": "Xiwx60NFOlca",
        "colab": {
          "base_uri": "https://localhost:8080/"
        },
        "outputId": "3425c04d-94d1-40b9-d1f0-98082454d1bb"
      },
      "source": [
        "exam_data  = {'name': ['Anastasia', 'Dima', 'Katherine', 'James', 'Emily', 'Michael', 'Matthew', 'Laura', 'Kevin', 'Jonas'],\r\n",
        "        'score': [12.5, 9, 16.5, np.nan, 9, 20, 14.5, np.nan, 8, 19],\r\n",
        "        'attempts': [1, 3, 2, 3, 2, 3, 1, 1, 2, 1],\r\n",
        "        'qualify': ['yes', 'no', 'yes', 'no', 'no', 'yes', 'yes', 'no', 'no', 'yes']}\r\n",
        "labels = ['a', 'b', 'c', 'd', 'e', 'f', 'g', 'h', 'i', 'j']\r\n",
        "exam_data"
      ],
      "execution_count": null,
      "outputs": [
        {
          "output_type": "execute_result",
          "data": {
            "text/plain": [
              "{'attempts': [1, 3, 2, 3, 2, 3, 1, 1, 2, 1],\n",
              " 'name': ['Anastasia',\n",
              "  'Dima',\n",
              "  'Katherine',\n",
              "  'James',\n",
              "  'Emily',\n",
              "  'Michael',\n",
              "  'Matthew',\n",
              "  'Laura',\n",
              "  'Kevin',\n",
              "  'Jonas'],\n",
              " 'qualify': ['yes', 'no', 'yes', 'no', 'no', 'yes', 'yes', 'no', 'no', 'yes'],\n",
              " 'score': [12.5, 9, 16.5, nan, 9, 20, 14.5, nan, 8, 19]}"
            ]
          },
          "metadata": {
            "tags": []
          },
          "execution_count": 15
        }
      ]
    },
    {
      "cell_type": "markdown",
      "metadata": {
        "id": "UeQxkZsOL8Y9"
      },
      "source": [
        "Dataframe"
      ]
    },
    {
      "cell_type": "code",
      "metadata": {
        "id": "XrWdyyLqL-Bt",
        "colab": {
          "base_uri": "https://localhost:8080/"
        },
        "outputId": "6c8ee6c2-d192-450c-8193-2795fb05a814"
      },
      "source": [
        "import pandas as pd\n",
        "import numpy as np\n",
        "\n",
        "exam_data  = {'name': ['Anastasia', 'Dima', 'Katherine', 'James', 'Emily', 'Michael', 'Matthew', 'Laura', 'Kevin', 'Jonas'],\n",
        "        'score': [12.5, 9, 16.5, np.nan, 9, 20, 14.5, np.nan, 8, 19],\n",
        "        'attempts': [1, 3, 2, 3, 2, 3, 1, 1, 2, 1],\n",
        "        'qualify': ['yes', 'no', 'yes', 'no', 'no', 'yes', 'yes', 'no', 'no', 'yes']}\n",
        "labels = ['a', 'b', 'c', 'd', 'e', 'f', 'g', 'h', 'i', 'j']\n",
        "\n",
        "df = pd.DataFrame(exam_data , index=labels)\n",
        "print(df)"
      ],
      "execution_count": null,
      "outputs": [
        {
          "output_type": "stream",
          "text": [
            "        name  score  attempts qualify\n",
            "a  Anastasia   12.5         1     yes\n",
            "b       Dima    9.0         3      no\n",
            "c  Katherine   16.5         2     yes\n",
            "d      James    NaN         3      no\n",
            "e      Emily    9.0         2      no\n",
            "f    Michael   20.0         3     yes\n",
            "g    Matthew   14.5         1     yes\n",
            "h      Laura    NaN         1      no\n",
            "i      Kevin    8.0         2      no\n",
            "j      Jonas   19.0         1     yes\n"
          ],
          "name": "stdout"
        }
      ]
    },
    {
      "cell_type": "markdown",
      "metadata": {
        "id": "1SZBczZ4JI_Q"
      },
      "source": [
        "Importing Weather data and do the Data analysis, manipulation and visualisation"
      ]
    },
    {
      "cell_type": "code",
      "metadata": {
        "id": "uj_X12flQAsP"
      },
      "source": [
        "#This is one of the way to upload the dataset\r\n",
        "from google.colab import files \r\n",
        "\r\n",
        "uploaded = files.upload()\r\n"
      ],
      "execution_count": null,
      "outputs": []
    },
    {
      "cell_type": "code",
      "metadata": {
        "id": "TsLKnB9dN7t1"
      },
      "source": [
        "## Reading The data.\n",
        "import pandas as pd\n",
        "import numpy as np\n",
        "df=pd.read_csv(\"weather.csv\")"
      ],
      "execution_count": null,
      "outputs": []
    },
    {
      "cell_type": "code",
      "metadata": {
        "id": "fHm5Go0NTytE"
      },
      "source": [
        "df"
      ],
      "execution_count": null,
      "outputs": []
    },
    {
      "cell_type": "code",
      "metadata": {
        "id": "vIwwOe_roZHD"
      },
      "source": [
        "#head() tail()\r\n",
        "df.head() #5 rows df.head(number of rows)"
      ],
      "execution_count": null,
      "outputs": []
    },
    {
      "cell_type": "code",
      "metadata": {
        "id": "TAndCzcbob70"
      },
      "source": [
        "df.tail()"
      ],
      "execution_count": null,
      "outputs": []
    },
    {
      "cell_type": "code",
      "metadata": {
        "id": "Wwa--wagofGz"
      },
      "source": [
        "#Checking the no of rows and columns.\r\n",
        "df.shape #RCB --> BRC"
      ],
      "execution_count": null,
      "outputs": []
    },
    {
      "cell_type": "code",
      "metadata": {
        "id": "kcQg6FSqT28C"
      },
      "source": [
        "#TUPLE () NO OF ROWS \r\n",
        "df.shape[0]"
      ],
      "execution_count": null,
      "outputs": []
    },
    {
      "cell_type": "code",
      "metadata": {
        "id": "-6bUEqY2VGWS"
      },
      "source": [
        "df.shape[1] #no of col"
      ],
      "execution_count": null,
      "outputs": []
    },
    {
      "cell_type": "code",
      "metadata": {
        "id": "lBBc4CwfVWW7"
      },
      "source": [
        "#Checking for missing values.\r\n",
        "df.isnull()"
      ],
      "execution_count": null,
      "outputs": []
    },
    {
      "cell_type": "code",
      "metadata": {
        "id": "WobC2vvZVkWp"
      },
      "source": [
        "#Fetching a column (Status)\r\n",
        "\r\n",
        "#dataframe[col_name]\r\n",
        "df['Status']"
      ],
      "execution_count": null,
      "outputs": []
    },
    {
      "cell_type": "code",
      "metadata": {
        "id": "bS0_eF_9V32p"
      },
      "source": [
        "df['Status'].value_counts()"
      ],
      "execution_count": null,
      "outputs": []
    },
    {
      "cell_type": "code",
      "metadata": {
        "id": "b-pWKHfkowp8"
      },
      "source": [
        "#Fetching more than 1 column.\r\n",
        "df[['Status','Day']]"
      ],
      "execution_count": null,
      "outputs": []
    },
    {
      "cell_type": "code",
      "metadata": {
        "id": "_3CbE8zKozI7"
      },
      "source": [
        "#Checking for statistical information.\r\n",
        "df.describe()"
      ],
      "execution_count": null,
      "outputs": []
    },
    {
      "cell_type": "code",
      "metadata": {
        "id": "hgDHkT8ho1m6"
      },
      "source": [
        "#df[df['col']condition]"
      ],
      "execution_count": null,
      "outputs": []
    },
    {
      "cell_type": "code",
      "metadata": {
        "id": "M0HsFUajo3mj"
      },
      "source": [
        "#Dataframe slicing ex temp > 20.\r\n",
        "df[df['Temp']>20]"
      ],
      "execution_count": null,
      "outputs": []
    },
    {
      "cell_type": "markdown",
      "metadata": {
        "id": "4lvyTg3YtvJ7"
      },
      "source": [
        "# TRY IT\r\n",
        "Home Assignment"
      ]
    },
    {
      "cell_type": "markdown",
      "metadata": {
        "id": "SyZyAbQVRub-"
      },
      "source": [
        "Automobile Dataset : https://drive.google.com/file/d/18aMMwnD9HKXKZKLsPivxZk9g5MOha0wq/view?usp=sharing"
      ]
    },
    {
      "cell_type": "code",
      "metadata": {
        "id": "HzcMWXD2tpBy"
      },
      "source": [
        "#Question 1: From the above given data set print first and last five rows\r\n",
        "\r\n",
        "#Question 2: From the above given data set Count total cars per company\r\n",
        "\r\n",
        "#Question 3: Consider a dictionary which contains Car company name as a key and Price as its value convert it into a series.\r\n"
      ],
      "execution_count": null,
      "outputs": []
    },
    {
      "cell_type": "markdown",
      "metadata": {
        "id": "4rpTpuMwnArK"
      },
      "source": [
        "# Solution\r\n",
        "\r\n",
        "1. \r\n",
        "\r\n",
        "\r\n",
        "import pandas as pd\r\n",
        "\r\n",
        "df = pd.read_csv(\"Automobile_data.csv\")\r\n",
        "\r\n",
        "df.head(5)\r\n",
        "\r\n",
        "Similarly df.tail(5)\r\n",
        "\r\n",
        "\r\n",
        "---\r\n",
        "\r\n",
        "\r\n",
        "2. \r\n",
        "\r\n",
        "\r\n",
        "import pandas as pd\r\n",
        "\r\n",
        "df = pd.read_csv(\"Automobile_data.csv\")\r\n",
        "\r\n",
        "df['company'].value_counts()\r\n",
        "\r\n",
        "\r\n",
        "---\r\n",
        "\r\n",
        "\r\n",
        "3. \r\n",
        "\r\n",
        "\r\n",
        "import pandas as pd\r\n",
        "\r\n",
        "Car_Price = {'Company': ['Toyota', 'Honda', 'BMV', 'Audi'], 'Price': [23845, 17995, 135925 , 71400]}\r\n",
        "\r\n",
        "carPriceDf = pd.DataFrame.from_dict(Car_Price)  carPriceDf  "
      ]
    }
  ]
}